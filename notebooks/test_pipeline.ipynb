{
 "cells": [
  {
   "cell_type": "code",
   "execution_count": 3,
   "id": "6bb11797",
   "metadata": {},
   "outputs": [],
   "source": [
    "# 🔧 Ajustando o path para importar módulos da pasta src\n",
    "import sys\n",
    "import os\n",
    "\n",
    "sys.path.append(os.path.abspath(\"../\"))\n",
    "import pandas as pd\n",
    "from src.template_matcher import TemplateMatcher\n",
    "from src.operation_executor import execute_operation\n",
    "from src.qa_pipeline import QAPipeline\n"
   ]
  },
  {
   "cell_type": "code",
   "execution_count": 4,
   "id": "dfbc3766",
   "metadata": {},
   "outputs": [
    {
     "ename": "FileNotFoundError",
     "evalue": "[Errno 2] No such file or directory: 'src/templates.json'",
     "output_type": "error",
     "traceback": [
      "\u001b[31m---------------------------------------------------------------------------\u001b[39m",
      "\u001b[31mFileNotFoundError\u001b[39m                         Traceback (most recent call last)",
      "\u001b[36mCell\u001b[39m\u001b[36m \u001b[39m\u001b[32mIn[4]\u001b[39m\u001b[32m, line 2\u001b[39m\n\u001b[32m      1\u001b[39m \u001b[38;5;66;03m# 📦 Instanciar a pipeline\u001b[39;00m\n\u001b[32m----> \u001b[39m\u001b[32m2\u001b[39m pipeline = \u001b[43mQAPipeline\u001b[49m\u001b[43m(\u001b[49m\u001b[33;43m\"\u001b[39;49m\u001b[33;43msrc/templates.json\u001b[39;49m\u001b[33;43m\"\u001b[39;49m\u001b[43m)\u001b[49m\n\u001b[32m      4\u001b[39m \u001b[38;5;66;03m# 🔍 Definir o dataset que você quer usar\u001b[39;00m\n\u001b[32m      5\u001b[39m dataset_id = \u001b[33m\"\u001b[39m\u001b[33m066_IBM_HR\u001b[39m\u001b[33m\"\u001b[39m\n",
      "\u001b[36mFile \u001b[39m\u001b[32mc:\\Users\\dwsol\\question-answering-tabular\\question-answering-tabular\\src\\qa_pipeline.py:15\u001b[39m, in \u001b[36mQAPipeline.__init__\u001b[39m\u001b[34m(self, template_path)\u001b[39m\n\u001b[32m     14\u001b[39m \u001b[38;5;28;01mdef\u001b[39;00m\u001b[38;5;250m \u001b[39m\u001b[34m__init__\u001b[39m(\u001b[38;5;28mself\u001b[39m, template_path):\n\u001b[32m---> \u001b[39m\u001b[32m15\u001b[39m     \u001b[38;5;28mself\u001b[39m.matcher = \u001b[43mTemplateMatcher\u001b[49m\u001b[43m(\u001b[49m\u001b[43mtemplate_path\u001b[49m\u001b[43m)\u001b[49m\n",
      "\u001b[36mFile \u001b[39m\u001b[32mc:\\Users\\dwsol\\question-answering-tabular\\question-answering-tabular\\src\\template_matcher.py:12\u001b[39m, in \u001b[36m__init__\u001b[39m\u001b[34m(self, template_path)\u001b[39m\n\u001b[32m      8\u001b[39m \u001b[38;5;28;01mclass\u001b[39;00m\u001b[38;5;250m \u001b[39m\u001b[34;01mTemplateMatcher\u001b[39;00m:\n\u001b[32m      9\u001b[39m \u001b[38;5;250m    \u001b[39m\u001b[33;03m\"\"\"\u001b[39;00m\n\u001b[32m     10\u001b[39m \u001b[33;03m    Faz o mapeamento de uma pergunta em linguagem natural para um template.\u001b[39;00m\n\u001b[32m     11\u001b[39m \u001b[33;03m    \"\"\"\u001b[39;00m\n\u001b[32m---> \u001b[39m\u001b[32m12\u001b[39m     \u001b[38;5;28;01mdef\u001b[39;00m\u001b[38;5;250m \u001b[39m\u001b[34m__init__\u001b[39m(\u001b[38;5;28mself\u001b[39m, template_path):\n\u001b[32m     13\u001b[39m         \u001b[38;5;66;03m# Garante que o caminho seja relativo ao projeto\u001b[39;00m\n\u001b[32m     14\u001b[39m         template_path = os.path.abspath(template_path)\n\u001b[32m     16\u001b[39m         \u001b[38;5;28;01mwith\u001b[39;00m \u001b[38;5;28mopen\u001b[39m(template_path, \u001b[33m\"\u001b[39m\u001b[33mr\u001b[39m\u001b[33m\"\u001b[39m) \u001b[38;5;28;01mas\u001b[39;00m f:\n",
      "\u001b[31mFileNotFoundError\u001b[39m: [Errno 2] No such file or directory: 'src/templates.json'"
     ]
    }
   ],
   "source": [
    "# 📦 Instanciar a pipeline\n",
    "pipeline = QAPipeline(\"src/templates.json\")\n",
    "\n",
    "# 🔍 Definir o dataset que você quer usar\n",
    "dataset_id = \"066_IBM_HR\"\n",
    "\n",
    "# 📊 Carregar o dataframe\n",
    "df = pipeline.load_dataset(dataset_id)\n",
    "\n",
    "# 👀 Visualizar os dados\n",
    "df.head()\n"
   ]
  },
  {
   "cell_type": "code",
   "execution_count": null,
   "id": "96f92036",
   "metadata": {},
   "outputs": [],
   "source": [
    "# 🚀 Testar se ele mapeia a pergunta para o template certo\n",
    "matcher = TemplateMatcher(\"src/templates.json\")\n",
    "\n",
    "question = \"Is our average employee older than 35?\"\n",
    "template = matcher.predict_template(question)\n",
    "\n",
    "print(f\"Pergunta: {question}\")\n",
    "print(f\"Template mapeado: {template}\")\n"
   ]
  }
 ],
 "metadata": {
  "kernelspec": {
   "display_name": ".venv",
   "language": "python",
   "name": "python3"
  },
  "language_info": {
   "codemirror_mode": {
    "name": "ipython",
    "version": 3
   },
   "file_extension": ".py",
   "mimetype": "text/x-python",
   "name": "python",
   "nbconvert_exporter": "python",
   "pygments_lexer": "ipython3",
   "version": "3.11.9"
  }
 },
 "nbformat": 4,
 "nbformat_minor": 5
}
